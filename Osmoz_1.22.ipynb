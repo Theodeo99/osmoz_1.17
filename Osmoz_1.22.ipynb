# Osmoz 1.22 - version nettoyée et complète
# Import + installation dynamique si nécessaire (silencieuse si déjà installée)
import sys, subprocess, io, os, re, traceback, csv, urllib.request, math
from typing import Optional, Tuple, List, Dict, Any
from dataclasses import dataclass

# attempt to ensure key libs available (no-op si déjà présentes)
def _pip_install(pkg):
    import importlib.util
    if importlib.util.find_spec(pkg) is None:
        subprocess.check_call([sys.executable, "-m", "pip", "install", pkg])

for pkg in ("pandas","ipywidgets","openpyxl","reportlab","pillow","chardet"):
    try:
        _pip_install(pkg)
    except Exception:
        # ignore install errors here; later imports may fail and raise useful errors
        pass

import pandas as pd
import chardet
from ipywidgets import VBox, HBox, HTML, Button, FileUpload, Output, Layout, Checkbox
from IPython.display import display, FileLink, clear_output
from reportlab.lib.pagesizes import A4
from reportlab.pdfgen import canvas
from reportlab.lib.units import mm
from reportlab.lib.utils import ImageReader
from PIL import Image

# -------------------- Utilities --------------------

def to_bytes(obj) -> bytes:
    if obj is None:
        return b""
    if isinstance(obj, (bytes, bytearray)):
        return bytes(obj)
    if isinstance(obj, str):
        return obj.encode("utf-8")
    try:
        return bytes(obj)
    except Exception:
        return str(obj).encode("utf-8", errors="replace")

def smart_decode(b: bytes) -> Tuple[str, str]:
    try:
        if not isinstance(b, (bytes, bytearray)):
            return str(b), "str"
        r = chardet.detect(b)
        enc = r.get("encoding") or "utf-8"
        text = b.decode(enc, errors="replace")
        return text, enc
    except Exception:
        try:
            return b.decode("utf-8", errors="replace"), "utf-8"
        except Exception:
            return str(b), "bytes"

# -------------------- Read table (xlsx/csv/tsv) --------------------

def read_table_flex(file_bytes: bytes, filename: str) -> Tuple[pd.DataFrame, dict]:
    name = (filename or "").lower()
    meta = {}
    try:
        if name.endswith((".xlsx", ".xls", ".xlsm")):
            df = pd.read_excel(io.BytesIO(file_bytes), engine="openpyxl")
            meta["parser"] = "excel"
            return df, meta
    except Exception as e:
        meta["excel_error"] = str(e)

    text, enc = smart_decode(file_bytes)
    meta["encoding"] = enc
    # normalize newlines
    text = text.replace("\r\n", "\n").replace("\r", "\n")
    # guess delimiter: if many tabs -> tab, else comma or semicolon
    n_lines = text.count("\n") + 1
    sample = "\n".join(text.splitlines()[:20])
    # heuristics
    tab_count = sample.count("\t")
    comma_count = sample.count(",")
    semi_count = sample.count(";")
    if tab_count > max(comma_count, semi_count):
        delim = "\t"
    elif semi_count > comma_count:
        delim = ";"
    else:
        delim = ","
    meta["delimiter_guess"] = delim
    try:
        # use pandas read_csv from string with guessed delimiter
        df = pd.read_csv(io.StringIO(text), sep=delim)
        meta["parser"] = "text"
        return df, meta
    except Exception as e:
        # fallback: try csv.reader manual
        try:
            rows = list(csv.reader(text.splitlines(), delimiter=delim))
            if not rows:
                return pd.DataFrame(), meta
            header = rows[0]
            data = rows[1:]
            df = pd.DataFrame(data, columns=header)
            meta["parser"] = "manual_csv"
            return df, meta
        except Exception as e2:
            return pd.DataFrame(), {"error": str(e2)}

# -------------------- Column mapping --------------------
# ColMap is simply Dict[str, str] mapping logical names to actual df columns
ColMap = Dict[str, Optional[str]]

def build_cols_map(df: pd.DataFrame) -> ColMap:
    # build mapping by looking for known variants (case-insensitive)
    keys = {c.lower(): c for c in df.columns}
    def pick(*names):
        for n in names:
            if n is None: continue
            k = n.lower()
            if k in keys:
                return keys[k]
            # try partial matches
            for col_lower, col in keys.items():
                if k in col_lower:
                    return col
        return None

    m: ColMap = {
        "order_id": pick("order-id","order id","order_id","orderid"),
        "order_item_id": pick("order-item-id","order-item","item-id","order_item_id"),
        "recipient": pick("recipient-name","buyer-name","recipient"),
        "addr1": pick("ship-address-1","address-1","addr1","ship_address_1","address1"),
        "addr2": pick("ship-address-2","address-2","addr2","address2"),
        "addr3": pick("ship-address-3","address-3","addr3"),
        "city": pick("ship-city","city","ville"),
        "state": pick("ship-state","state","region"),
        "postal": pick("ship-postal-code","postal code","postal"),
        "country": pick("ship-country","country","pays"),
        "phone": pick("buyer-phone-number","phone"),
        "product_name": pick("product-name","product name","title","item-name"),
        "sku": pick("seller-sku","sku"),
        "asin": pick("asin")
    }
    return m

# -------------------- Wrapping and formatting --------------------

def wrap_text(text: str, width: int = 20) -> List[str]:
    if not text:
        return []
    text = str(text).strip()
    words = re.split(r'(\s+)', text)  # keep whitespace for hyphenation handling
    lines = []
    cur = ""
    for token in words:
        if token.strip() == "":
            # whitespace
            if cur.endswith(" "):
                continue
            else:
                cur += " "
                continue
        # token is a word
        w = token
        if len(w) > width:
            # break long word
            if cur:
                lines.append(cur.rstrip())
                cur = ""
            i = 0
            while i < len(w):
                lines.append(w[i:i+width])
                i += width
        else:
            if not cur:
                cur = w
            elif len(cur) + 1 + len(w) <= width:
                cur = cur + " " + w
            else:
                lines.append(cur)
                cur = w
    if cur:
        lines.append(cur)
    return [ln.strip() for ln in lines if ln.strip()]

def format_address(row: pd.Series, m: ColMap, width: int = 20) -> List[str]:
    parts = []
    for key in ("recipient","addr1","addr2","addr3"):
        col = m.get(key)
        if col and col in row and pd.notna(row[col]):
            parts.append(str(row[col]).strip())
    # combine postal + city into single line if present
    post = m.get("postal")
    city = m.get("city")
    if post and post in row and pd.notna(row[post]):
        p = str(row[post]).strip()
    else:
        p = ""
    if city and city in row and pd.notna(row[city]):
        c = str(row[city]).strip()
    else:
        c = ""
    if p or c:
        parts.append(" ".join([x for x in (p, c) if x]))
    # country
    country = m.get("country")
    if country and country in row and pd.notna(row[country]):
        parts.append(str(row[country]).strip())
    # wrap each part
    wrapped = []
    for p in parts:
        wrapped += wrap_text(p, width=width)
    return wrapped

# -------------------- Unique orders extraction --------------------

def unique_orders(df: pd.DataFrame, m: ColMap) -> pd.DataFrame:
    if df is None or df.empty:
        return pd.DataFrame()
    oid = m.get("order_id")
    if oid and oid in df.columns:
        # return one row per order (first occurrence)
        return df.drop_duplicates(subset=[oid]).reset_index(drop=True)
    else:
        # fallback: unique by recipient+addr combination
        keys = []
        for k in ("recipient","addr1","addr2","city","postal"):
            if m.get(k) and m.get(k) in df.columns:
                keys.append(m.get(k))
        if keys:
            return df.drop_duplicates(subset=keys).reset_index(drop=True)
        return df.reset_index(drop=True)

# -------------------- PDF layout --------------------

class PdfLayout:
    def __init__(self, page_size=A4, cols=4, rows=2, margin_left_mm=10, margin_top_mm=10, col_gap_mm=6, row_gap_mm=6):
        self.page_w, self.page_h = page_size
        self.cols = cols
        self.rows = rows
        self.margin_left = margin_left_mm * mm
        self.margin_top = margin_top_mm * mm
        self.col_gap = col_gap_mm * mm
        self.row_gap = row_gap_mm * mm
        usable_w = self.page_w - 2 * self.margin_left
        usable_h = self.page_h - 2 * self.margin_top
        self.cell_w = (usable_w - (self.cols - 1) * self.col_gap) / self.cols
        self.cell_h = (usable_h - (self.rows - 1) * self.row_gap) / self.rows

# -------------------- Fetch default logo (tolerant) --------------------

# If you have a logo in the repo, use the raw.githubusercontent link; else leave None
DEFAULT_LOGO_URL = "https://raw.githubusercontent.com/Theodeo99/osmoz_1.17/main/logo.png"

def fetch_default_logo_bytes(timeout=6):
    if not DEFAULT_LOGO_URL:
        return None
    try:
        req = urllib.request.Request(DEFAULT_LOGO_URL, headers={"User-Agent":"python-requests/2.31"})
        with urllib.request.urlopen(req, timeout=timeout) as resp:
            return resp.read()
    except Exception:
        return None

# -------------------- Generate PDF --------------------

def generate_labels_pdf(df_orders: pd.DataFrame, m: ColMap, out_path="etiquettes.pdf", logo_bytes: Optional[bytes]=None) -> Tuple[str, int]:
    layout = PdfLayout()
    c = canvas.Canvas(out_path, pagesize=(layout.page_w, layout.page_h))

    if logo_bytes is None:
        logo_bytes = fetch_default_logo_bytes()

    logo_reader = None
    logo_bytes_safe = None
    if logo_bytes:
        try:
            logo_bytes_safe = to_bytes(logo_bytes)
            logo_reader = ImageReader(io.BytesIO(logo_bytes_safe))
        except Exception:
            logo_reader = None
            logo_bytes_safe = None

    # scaling factors (20% larger as in your spec)
    base_max_h_factor = 0.6
    base_max_w_factor = 0.28
    max_h_factor = base_max_h_factor * 1.2
    max_w_factor = base_max_w_factor * 1.2

    font_name = "Helvetica"
    font_name_b = "Helvetica-Bold"
    font_size = 10
    leading = 12

    n = 0
    for idx, row in df_orders.iterrows():
        pos_in_page = n % (layout.cols * layout.rows)
        col = pos_in_page % layout.cols
        rw = pos_in_page // layout.cols
        x = layout.margin_left + col * (layout.cell_w + layout.col_gap)
        y = layout.page_h - layout.margin_top - (rw + 1) * layout.cell_h - rw * layout.row_gap

        # draw optional border for debugging (disabled)
        # c.rect(x, y, layout.cell_w, layout.cell_h, stroke=1, fill=0)

        # logo area
        logo_width = 0
        logo_height = 0
        if logo_reader and logo_bytes_safe:
            try:
                pil = Image.open(io.BytesIO(logo_bytes_safe))
                iw, ih = pil.size
                max_h = layout.cell_h * max_h_factor
                max_w = layout.cell_w * max_w_factor
                # compute scale
                scale = min(max_w / iw, max_h / ih, 1.0)
                logo_width = iw * scale
                logo_height = ih * scale
                # draw logo at left with small inset
                logo_x = x + 6
                logo_y = y + (layout.cell_h - logo_height) / 2
                c.drawImage(logo_reader, logo_x, logo_y, width=logo_width, height=logo_height, preserveAspectRatio=True, mask='auto')
                logo_width = logo_width + 6  # leave gap
            except Exception:
                logo_width = 0

        # address block
        addr_lines = format_address(row, m, width=20)
        if not addr_lines:
            # fallback: try product or order id
            prod_col = m.get("product_name")
            if prod_col and prod_col in row and pd.notna(row[prod_col]):
                addr_lines = wrap_text(str(row[prod_col]), width=20)
            elif m.get("order_id") and m.get("order_id") in row:
                addr_lines = [str(row[m.get("order_id")])]
            else:
                addr_lines = ["(adresse manquante)"]

        # compute text position (to the right of logo if present)
        text_x = x + 6 + (logo_width if logo_width else 0)
        # vertical centering of the block
        n_lines = len(addr_lines)
        text_block_h = n_lines * leading
        text_y_top = y + (layout.cell_h + text_block_h) / 2
        text_obj = c.beginText()
        text_obj.setTextOrigin(text_x, text_y_top - font_size)
        text_obj.setLeading(leading)
        for i, ln in enumerate(addr_lines):
            if i == 0:
                text_obj.setFont(font_name_b, font_size + 1)
                text_obj.textLine(ln)
                text_obj.setFont(font_name, font_size)
            else:
                text_obj.textLine(ln)
        c.drawText(text_obj)

        n += 1
        if n % (layout.cols * layout.rows) == 0:
            c.showPage()

    if n % (layout.cols * layout.rows) != 0:
        c.showPage()
    c.save()
    return out_path, n

# -------------------- FileUpload helpers --------------------

def get_first_upload(fu: FileUpload) -> Optional[Tuple[bytes, str]]:
    if not fu:
        return None
    v = fu.value
    # ipywidgets FileUpload may expose a dict or a tuple/list depending on version
    try:
        # new style: dict of filenames -> info
        if isinstance(v, dict):
            first = next(iter(v.values()))
            content = first.get('content') or first.get('content', None)
            # name may be in metadata
            name = first.get('name') or first.get('metadata', {}).get('name') or next(iter(v.keys()))
            return (to_bytes(content), name)
        # older style: list/tuple of objects or dict inside list
        if isinstance(v, (list, tuple)):
            up = v[0]
            if isinstance(up, dict):
                content = up.get('content') or up.get('data') or None
                name = up.get('name') or up.get('metadata', {}).get('name') or "upload.bin"
                return (to_bytes(content), name)
            # else try attributes
            content = getattr(up, "content", None)
            name = getattr(up, "name", None)
            return (to_bytes(content), name or "upload.bin")
        # sometimes value is a simple object with attributes
        content = getattr(v, "content", None)
        name = getattr(v, "name", None)
        if content is not None:
            return (to_bytes(content), name or "upload.bin")
    except Exception:
        pass
    return None

def load_logo_from_uploader(uploader_logo: FileUpload) -> Optional[bytes]:
    up = get_first_upload(uploader_logo)
    if not up:
        return None
    content, _ = up
    return to_bytes(content) if content is not None else None

# -------------------- Grouping / summary --------------------

def build_group_key(row: pd.Series, m: ColMap) -> str:
    p = str(row.get(m.get("product_name"), "")).strip() if m.get("product_name") in row.index else ""
    s = str(row.get(m.get("sku"), "")).strip() if m.get("sku") in row.index else ""
    a = str(row.get(m.get("asin"), "")).strip() if m.get("asin") in row.index else ""
    parts = [x for x in (p,s,a) if x]
    if not parts:
        # fallback to order item id or order id
        oid = m.get("order_item_id") or m.get("order_id")
        if oid and oid in row.index and pd.notna(row[oid]):
            parts = [f"Produit {row[oid]}"]
        else:
            parts = ["Produit inconnu"]
    return " | ".join(parts)

def summarize_groups(df: pd.DataFrame, m: ColMap) -> pd.DataFrame:
    if df is None or df.empty:
        return pd.DataFrame(columns=['_group','count'])
    tmp = df.copy()
    tmp['_group'] = tmp.apply(lambda r: build_group_key(r, m), axis=1)
    oid = m.get('order_id')
    if oid and oid in tmp.columns:
        grp = tmp.groupby('_group')[oid].nunique().reset_index().rename(columns={oid:'count'})
    else:
        grp = tmp.groupby('_group').size().reset_index(name='count')
    grp = grp.sort_values(['count','_group'], ascending=[False, True])
    return grp

# -------------------- UI state --------------------
df_raw_global: Optional[pd.DataFrame] = None
cols_map_global: Optional[ColMap] = None
logo_bytes_global: Optional[bytes] = None
checkboxes: List[Checkbox] = []
groups_box = VBox()
groups_bar = HBox(layout=Layout(gap="8px"))
stats_html = HTML()
export_out = Output()
log = Output()

def log_print(*args, **kw):
    with log:
        print(*args, **kw)

# -------------------- UI widgets factory --------------------

def make_widgets():
    title = HTML("""<div style="font-family: -apple-system, BlinkMacSystemFont, 'Segoe UI', Roboto, 'Helvetica Neue', Arial;">
        <div style="font-size:22px;font-weight:700;color:#0b3954">Osmoz <span style="color:#1273de">1.22</span></div>
        <div style="color:#7a8696">Import Amazon + Étiquettes PDF</div>
    </div>""")

    hint = HTML("""<div style="background:#f6f9fe;border:1px solid #eef5ff;border-radius:8px;padding:8px 10px;font-size:12.5px;color:#1f3b57">
        1) Déposez l’export Amazon (.txt/.csv/.tsv/.xlsx). 2) Cliquez <b>Charger les données</b>.<br>
        3) Cochez les produits (groupés). 4) Cliquez <b>Générer le PDF</b>.
    </div>""")

    uploader = FileUpload(
        accept=".txt,.csv,.tsv,.xlsx",
        multiple=False,
        description="Fichier Amazon",
        layout=Layout(width="78%", height="48px"),
    )
    uploader_logo = FileUpload(
        accept=".png,.jpg,.jpeg",
        multiple=False,
        description="Logo (option)",
        layout=Layout(width="38%", height="48px"),
    )
    btn_load = Button(description="📥 Charger les données", layout=Layout(width="50%", height="42px"), style={'button_color': '#daf7e6'})
    btn_pdf = Button(description="📄 Générer le PDF", layout=Layout(width="48%", height="42px"), style={'button_color': '#eaf4ff'})
    btn_reset = Button(description="RESET", button_style="danger", layout=Layout(width="48%", height="36px"))
    return title, hint, uploader, uploader_logo, btn_load, btn_pdf, btn_reset

# -------------------- Selection handling --------------------

def refresh_groups_ui(df: pd.DataFrame, m: ColMap):
    global checkboxes, groups_box
    checkboxes = []
    grp = summarize_groups(df, m)
    if grp.empty:
        groups_box.children = [HTML("<i>Aucun produit détecté.</i>")]
        return
    items = []
    for _, r in grp.iterrows():
        label = f"[{int(r['count'])}] {r['_group']}"
        cb = Checkbox(value=True, description=label, indent=False, layout=Layout(width="100%"))
        items.append(cb)
        checkboxes.append(cb)
    groups_box.children = items

def apply_selection(df: pd.DataFrame, m: ColMap) -> pd.DataFrame:
    if df is None:
        return pd.DataFrame()
    if not checkboxes:
        return unique_orders(df, m)
    enabled = set()
    for cb in checkboxes:
        if cb.value:
            label = cb.description
            gname = re.sub(r'^\[\d+\]\s*', '', label)
            enabled.add(gname)
    tmp = df.copy()
    tmp['_group'] = tmp.apply(lambda r: build_group_key(r, m), axis=1)
    tmp = tmp[tmp['_group'].isin(enabled)]
    return unique_orders(tmp, m)

# -------------------- Stats render --------------------

def country_flag_label(country_name: str) -> str:
    if not country_name:
        return '🏳️'
    k = country_name.strip().upper()
    _FLAG_MAP = {'FR':'🇫🇷','FRANCE':'🇫🇷','GB':'🇬🇧','UK':'🇬🇧','US':'🇺🇸','USA':'🇺🇸','DE':'🇩🇪','ES':'🇪🇸','IT':'🇮🇹'}
    if k in _FLAG_MAP:
        return _FLAG_MAP[k]
    if len(k)==2 and k.isalpha():
        try:
            return ''.join(chr(0x1F1E6 + ord(ch)-65) for ch in k)
        except Exception:
            return '🏳️'
    for kk in _FLAG_MAP:
        if kk in k:
            return _FLAG_MAP[kk]
    return '🏳️'

def render_stats(df_raw: pd.DataFrame, df_orders_unique: pd.DataFrame, m: ColMap, groups_df):
    dfu = df_orders_unique if df_orders_unique is not None and not df_orders_unique.empty else (unique_orders(df_raw, m) if df_raw is not None else pd.DataFrame())
    country_col = m.get('country')
    country_counts = {}
    if country_col and country_col in dfu.columns:
        country_counts = dfu[country_col].astype(str).str.strip().replace('', '—').value_counts().to_dict()
    total_cmd = sum(country_counts.values()) if country_counts else (dfu.shape[0] if not dfu.empty else 0)
    rows_html = ""
    if country_counts:
        for k, v in sorted(country_counts.items(), key=lambda x: -x[1]):
            flag = country_flag_label(k)
            rows_html += f"<div style='display:flex;align-items:center;margin:4px 0'><div style='font-size:18px;margin-right:8px'>{flag}</div><div style='font-size:14px;color:#213547'>{k}</div><div style='margin-left:auto;font-weight:700;color:#0b3954'>{v}</div></div>"
    else:
        rows_html = "<div style='color:#7a8696'>Aucune commande détectée.</div>"
    stats_html.value = f"""
    <div style="font-family: -apple-system, BlinkMacSystemFont, 'Segoe UI', Roboto, 'Helvetica Neue', Arial; background:#fbfbfd;border:1px solid #e8eef6;border-radius:10px;padding:12px;">
      <div style="display:flex;align-items:baseline;gap:10px">
        <div style="font-size:13px;color:#6b7785">Commandes uniques</div>
        <div style="font-size:20px;font-weight:700;color:#0b3954">{total_cmd}</div>
      </div>
      <div style="margin-top:8px">{rows_html}</div>
    </div>
    """

# -------------------- Build interface --------------------

app_box = VBox()

def build_interface():
    global df_raw_global, cols_map_global, logo_bytes_global, groups_bar, groups_box, stats_html, export_out, log
    df_raw_global = None
    cols_map_global = None
    logo_bytes_global = None

    title, hint, uploader, uploader_logo, btn_load, btn_pdf, btn_reset = make_widgets()
    stats_html.value = ""
    groups_box.children = []
    export_out.clear_output()
    log.clear_output()

    groups_bar.children = [btn_pdf, btn_reset]

    def action_load_clicked(_):
        nonlocal uploader, uploader_logo
        try:
            up = get_first_upload(uploader)
            if not up:
                with log:
                    print("Aucun fichier importé.")
                return
            (file_bytes, filename) = up
            with log:
                print(f"Chargement: {filename}")
            df, meta = read_table_flex(file_bytes, filename)
            if df is None or df.empty:
                with log:
                    print("Fichier lu mais tableau vide (vérifiez le format). Meta:", meta)
                return
            m = build_cols_map(df)
            # sanitize some cols
            for k in ['recipient','addr1','addr2','addr3','city','state','postal','country','product_name','sku']:
                col = m.get(k)
                if col and col in df.columns:
                    df[col] = df[col].astype(str).str.replace(r'\s+', ' ', regex=True).str.strip()
            logo = load_logo_from_uploader(uploader_logo)
            # persist global
            globals()['df_raw_global'] = df.reset_index(drop=True)
            globals()['cols_map_global'] = m
            globals()['logo_bytes_global'] = logo
            refresh_groups_ui(df_raw_global, cols_map_global)
            df_sel = apply_selection(df_raw_global, cols_map_global)
            render_stats(df_raw_global, df_sel, cols_map_global, None)
            with log:
                print("Import terminé. Groupes produits générés.")
        except Exception as e:
            with log:
                print("Erreur chargement:", e)
                traceback.print_exc()

    def action_pdf_clicked(_):
        try:
            if df_raw_global is None or cols_map_global is None:
                with log:
                    print("Importez d’abord un fichier, puis cliquez sur Charger les données.")
                return
            df_sel_orders = apply_selection(df_raw_global, cols_map_global)
            if df_sel_orders is None or df_sel_orders.empty:
                with log:
                    print("Aucun résultat: vérifiez les cases cochées.")
                return
            out_path, n = generate_labels_pdf(df_sel_orders, cols_map_global, out_path="etiquettes.pdf", logo_bytes=logo_bytes_global)
            with export_out:
                clear_output(wait=True)
                try:
                    display(HTML(f"<div style='margin:6px 0 8px 0; font-size:15px; display:flex; align-items:center; gap:10px;'>📥 <b style=\"font-size:15px;color:#0b3954\">etiquettes.pdf</b> — <span style='font-weight:700;color:#0b3954'>{n} étiquette(s)</span></div>"))
                    display(FileLink(out_path))
                except Exception:
                    display(HTML(f"<div style='margin:6px 0 8px 0; font-size:15px;'>📥 <b>etiquettes.pdf</b> — {n} étiquette(s)</div>"))
            with log:
                print("PDF généré avec succès:", out_path)
            render_stats(df_raw_global, df_sel_orders, cols_map_global, None)
        except Exception as e:
            with log:
                print("Erreur génération PDF:", e)
                traceback.print_exc()

    def action_reset_clicked(_):
        global df_raw_global, cols_map_global, logo_bytes_global
        df_raw_global = None
        cols_map_global = None
        logo_bytes_global = None
        with export_out:
            clear_output(wait=True)
        with log:
            clear_output(wait=True)
            print("Interface réinitialisée.")
        build_interface()

    btn_load.on_click(action_load_clicked)
    btn_pdf.on_click(action_pdf_clicked)
    btn_reset.on_click(action_reset_clicked)

    left_col = VBox([
        HTML("<h4 style='margin:10px 0 6px 0;'>Import</h4>"),
        HBox([uploader, uploader_logo], layout=Layout(gap="8px")),
        HBox([Button(description="Charger (déclenche l'action)", layout=Layout(display="none"))], layout=Layout(margin="8px 0", gap="8px")),  # placeholder
        HTML("<h4 style='margin:10px 0 6px 0;'>Statistiques</h4>"),
        stats_html,
        HTML("<h4 style='margin:12px 0 6px 0;'>Résultat</h4>"),
        export_out,
    ], layout=Layout(width="46%"))

    right_col = VBox([
        HTML("<h4 style='margin:10px 0 6px 0;'>Sélection des produits</h4>"),
        groups_bar,
        groups_box,
        HTML("<h4 style='margin:12px 0 6px 0;'>Journal</h4>"),
        log
    ], layout=Layout(width="52%"))

    app_box.children = [
        title,
        hint,
        HBox([left_col, right_col], layout=Layout(justify_content="space-between", gap="16px"))
    ]

# build and display UI
build_interface()
display(app_box)
with log:
    print("Interface prête. 1) Déposez l’export. 2) Cliquez “Charger les données”. 3) Cochez les produits. 4) Cliquez “Générer le PDF”.")
